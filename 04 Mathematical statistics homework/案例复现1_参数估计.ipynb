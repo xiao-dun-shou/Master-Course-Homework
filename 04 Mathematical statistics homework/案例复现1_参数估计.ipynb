{
 "cells": [
  {
   "cell_type": "code",
   "execution_count": 1,
   "id": "9bd52884",
   "metadata": {},
   "outputs": [],
   "source": [
    "# 导入工具包\n",
    "import pandas as pd\n",
    "import numpy as np\n",
    "import scipy.stats as stats\n",
    "import matplotlib.pyplot as plt\n",
    "\n",
    "#导入数据集\n",
    "df = pd.read_excel(\"dataset/jester.xls\", header=None, na_values=99)"
   ]
  },
  {
   "cell_type": "code",
   "execution_count": 2,
   "id": "d9d5cda2",
   "metadata": {},
   "outputs": [
    {
     "name": "stdout",
     "output_type": "stream",
     "text": [
      "<class 'pandas.core.frame.DataFrame'>\n",
      "RangeIndex: 24938 entries, 0 to 24937\n",
      "Columns: 101 entries, 0 to 100\n",
      "dtypes: float64(100), int64(1)\n",
      "memory usage: 19.2 MB\n"
     ]
    }
   ],
   "source": [
    "# 查看数据集基本信息\n",
    "df.info()"
   ]
  },
  {
   "cell_type": "code",
   "execution_count": 3,
   "id": "41d1ef71",
   "metadata": {},
   "outputs": [
    {
     "data": {
      "text/plain": [
       "0      24938\n",
       "1         65\n",
       "2        139\n",
       "3          5\n",
       "4          3\n",
       "       ...  \n",
       "96      1903\n",
       "97      1954\n",
       "98      1862\n",
       "99      1968\n",
       "100        4\n",
       "Length: 101, dtype: int64"
      ]
     },
     "execution_count": 3,
     "metadata": {},
     "output_type": "execute_result"
    }
   ],
   "source": [
    "# 查看数据集各列信息\n",
    "count_series = df.count()\n",
    "count_series"
   ]
  },
  {
   "cell_type": "code",
   "execution_count": 4,
   "id": "2d3842d3",
   "metadata": {},
   "outputs": [
    {
     "name": "stdout",
     "output_type": "stream",
     "text": [
      "0      24938\n",
      "17     24934\n",
      "8      24933\n",
      "20     24932\n",
      "19     24931\n",
      "       ...  \n",
      "6         14\n",
      "3          5\n",
      "100        4\n",
      "4          3\n",
      "9          1\n",
      "Length: 101, dtype: int64\n"
     ]
    }
   ],
   "source": [
    "# 将df.count()的结果按照count的个数从大到小排序\n",
    "print(df.count().sort_values(ascending=False))"
   ]
  },
  {
   "cell_type": "code",
   "execution_count": 5,
   "id": "9faac2d9",
   "metadata": {},
   "outputs": [
    {
     "data": {
      "text/html": [
       "<div>\n",
       "<style scoped>\n",
       "    .dataframe tbody tr th:only-of-type {\n",
       "        vertical-align: middle;\n",
       "    }\n",
       "\n",
       "    .dataframe tbody tr th {\n",
       "        vertical-align: top;\n",
       "    }\n",
       "\n",
       "    .dataframe thead th {\n",
       "        text-align: right;\n",
       "    }\n",
       "</style>\n",
       "<table border=\"1\" class=\"dataframe\">\n",
       "  <thead>\n",
       "    <tr style=\"text-align: right;\">\n",
       "      <th></th>\n",
       "      <th>0</th>\n",
       "      <th>1</th>\n",
       "      <th>2</th>\n",
       "      <th>3</th>\n",
       "      <th>4</th>\n",
       "      <th>5</th>\n",
       "      <th>6</th>\n",
       "      <th>7</th>\n",
       "      <th>8</th>\n",
       "      <th>9</th>\n",
       "      <th>...</th>\n",
       "      <th>91</th>\n",
       "      <th>92</th>\n",
       "      <th>93</th>\n",
       "      <th>94</th>\n",
       "      <th>95</th>\n",
       "      <th>96</th>\n",
       "      <th>97</th>\n",
       "      <th>98</th>\n",
       "      <th>99</th>\n",
       "      <th>100</th>\n",
       "    </tr>\n",
       "  </thead>\n",
       "  <tbody>\n",
       "    <tr>\n",
       "      <th>0</th>\n",
       "      <td>26</td>\n",
       "      <td>NaN</td>\n",
       "      <td>NaN</td>\n",
       "      <td>NaN</td>\n",
       "      <td>NaN</td>\n",
       "      <td>-1.65</td>\n",
       "      <td>NaN</td>\n",
       "      <td>-0.78</td>\n",
       "      <td>6.89</td>\n",
       "      <td>NaN</td>\n",
       "      <td>...</td>\n",
       "      <td>NaN</td>\n",
       "      <td>NaN</td>\n",
       "      <td>NaN</td>\n",
       "      <td>NaN</td>\n",
       "      <td>NaN</td>\n",
       "      <td>NaN</td>\n",
       "      <td>NaN</td>\n",
       "      <td>NaN</td>\n",
       "      <td>NaN</td>\n",
       "      <td>NaN</td>\n",
       "    </tr>\n",
       "    <tr>\n",
       "      <th>1</th>\n",
       "      <td>33</td>\n",
       "      <td>NaN</td>\n",
       "      <td>NaN</td>\n",
       "      <td>NaN</td>\n",
       "      <td>NaN</td>\n",
       "      <td>-9.27</td>\n",
       "      <td>NaN</td>\n",
       "      <td>-9.17</td>\n",
       "      <td>-8.59</td>\n",
       "      <td>NaN</td>\n",
       "      <td>...</td>\n",
       "      <td>NaN</td>\n",
       "      <td>NaN</td>\n",
       "      <td>-2.77</td>\n",
       "      <td>NaN</td>\n",
       "      <td>NaN</td>\n",
       "      <td>NaN</td>\n",
       "      <td>NaN</td>\n",
       "      <td>NaN</td>\n",
       "      <td>NaN</td>\n",
       "      <td>NaN</td>\n",
       "    </tr>\n",
       "    <tr>\n",
       "      <th>2</th>\n",
       "      <td>16</td>\n",
       "      <td>NaN</td>\n",
       "      <td>NaN</td>\n",
       "      <td>NaN</td>\n",
       "      <td>NaN</td>\n",
       "      <td>-6.12</td>\n",
       "      <td>NaN</td>\n",
       "      <td>-7.48</td>\n",
       "      <td>-7.77</td>\n",
       "      <td>NaN</td>\n",
       "      <td>...</td>\n",
       "      <td>NaN</td>\n",
       "      <td>NaN</td>\n",
       "      <td>NaN</td>\n",
       "      <td>NaN</td>\n",
       "      <td>NaN</td>\n",
       "      <td>NaN</td>\n",
       "      <td>NaN</td>\n",
       "      <td>NaN</td>\n",
       "      <td>NaN</td>\n",
       "      <td>NaN</td>\n",
       "    </tr>\n",
       "    <tr>\n",
       "      <th>3</th>\n",
       "      <td>24</td>\n",
       "      <td>NaN</td>\n",
       "      <td>0.05</td>\n",
       "      <td>NaN</td>\n",
       "      <td>NaN</td>\n",
       "      <td>-2.82</td>\n",
       "      <td>NaN</td>\n",
       "      <td>-4.85</td>\n",
       "      <td>-0.87</td>\n",
       "      <td>NaN</td>\n",
       "      <td>...</td>\n",
       "      <td>NaN</td>\n",
       "      <td>NaN</td>\n",
       "      <td>NaN</td>\n",
       "      <td>NaN</td>\n",
       "      <td>1.84</td>\n",
       "      <td>NaN</td>\n",
       "      <td>NaN</td>\n",
       "      <td>NaN</td>\n",
       "      <td>-4.08</td>\n",
       "      <td>NaN</td>\n",
       "    </tr>\n",
       "    <tr>\n",
       "      <th>4</th>\n",
       "      <td>22</td>\n",
       "      <td>NaN</td>\n",
       "      <td>NaN</td>\n",
       "      <td>NaN</td>\n",
       "      <td>NaN</td>\n",
       "      <td>-4.95</td>\n",
       "      <td>NaN</td>\n",
       "      <td>6.21</td>\n",
       "      <td>2.72</td>\n",
       "      <td>NaN</td>\n",
       "      <td>...</td>\n",
       "      <td>NaN</td>\n",
       "      <td>NaN</td>\n",
       "      <td>NaN</td>\n",
       "      <td>NaN</td>\n",
       "      <td>NaN</td>\n",
       "      <td>NaN</td>\n",
       "      <td>NaN</td>\n",
       "      <td>NaN</td>\n",
       "      <td>NaN</td>\n",
       "      <td>NaN</td>\n",
       "    </tr>\n",
       "  </tbody>\n",
       "</table>\n",
       "<p>5 rows × 101 columns</p>\n",
       "</div>"
      ],
      "text/plain": [
       "   0    1     2    3    4     5    6     7     8    9    ...  91   92    93   \\\n",
       "0   26  NaN   NaN  NaN  NaN -1.65  NaN -0.78  6.89  NaN  ...  NaN  NaN   NaN   \n",
       "1   33  NaN   NaN  NaN  NaN -9.27  NaN -9.17 -8.59  NaN  ...  NaN  NaN -2.77   \n",
       "2   16  NaN   NaN  NaN  NaN -6.12  NaN -7.48 -7.77  NaN  ...  NaN  NaN   NaN   \n",
       "3   24  NaN  0.05  NaN  NaN -2.82  NaN -4.85 -0.87  NaN  ...  NaN  NaN   NaN   \n",
       "4   22  NaN   NaN  NaN  NaN -4.95  NaN  6.21  2.72  NaN  ...  NaN  NaN   NaN   \n",
       "\n",
       "   94    95   96   97   98    99   100  \n",
       "0  NaN   NaN  NaN  NaN  NaN   NaN  NaN  \n",
       "1  NaN   NaN  NaN  NaN  NaN   NaN  NaN  \n",
       "2  NaN   NaN  NaN  NaN  NaN   NaN  NaN  \n",
       "3  NaN  1.84  NaN  NaN  NaN -4.08  NaN  \n",
       "4  NaN   NaN  NaN  NaN  NaN   NaN  NaN  \n",
       "\n",
       "[5 rows x 101 columns]"
      ]
     },
     "execution_count": 5,
     "metadata": {},
     "output_type": "execute_result"
    }
   ],
   "source": [
    "df.head()"
   ]
  },
  {
   "cell_type": "code",
   "execution_count": 6,
   "id": "c64e1a88",
   "metadata": {},
   "outputs": [],
   "source": [
    "df = df.drop(0, axis=1)\n",
    "\n",
    "# 使用序列的boolean indexing，筛选出那些有效元素小于100个的列的索引，返回一个列表\n",
    "drop_list = count_series[count_series < 100].index.tolist()\n",
    "\n",
    "# 使用df.drop方法，传入列表作为参数，删除对应的列，并返回一个新的数据框\n",
    "df = df.drop(drop_list, axis=1)"
   ]
  },
  {
   "cell_type": "code",
   "execution_count": 7,
   "id": "474f0ed2",
   "metadata": {},
   "outputs": [
    {
     "data": {
      "image/png": "[encoded data removed]",
      "text/plain": [
       "<Figure size 640x480 with 1 Axes>"
      ]
     },
     "metadata": {},
     "output_type": "display_data"
    }
   ],
   "source": [
    "# 查看每一列的均值所形成的图形\n",
    "# 使用pandas库的mean方法，计算每一列的均值，并返回一个序列\n",
    "mean_series = df.mean()\n",
    "\n",
    "# 使用pandas库的replace方法，将缺失值（即99）替换为0\n",
    "mean_series = mean_series.replace(99,0)\n",
    "\n",
    "# 使用matplotlib库绘制直方图，设置标题、横轴标签、纵轴标签和网格线，并显示图像\n",
    "plt.hist(mean_series, bins=20)\n",
    "plt.title(\"Histogram of Mean Ratings\")\n",
    "plt.xlabel(\"Mean Rating\")\n",
    "plt.ylabel(\"Frequency\")\n",
    "plt.show()"
   ]
  },
  {
   "cell_type": "code",
   "execution_count": 26,
   "id": "d6d373ec",
   "metadata": {},
   "outputs": [
    {
     "name": "stdout",
     "output_type": "stream",
     "text": [
      "Sample mean: 0.325\n",
      "Sample variance: 2.267\n",
      "Population mean: 0.373\n",
      "Population variance: 2.541\n",
      "The confidence interval for the mean is: (-0.380, 1.030)\n",
      "The confidence interval for the variance is: (1.311, 4.836)\n",
      "8.906516481987971 32.85232686172969\n"
     ]
    }
   ],
   "source": [
    "# 参数估计函数 / 置信区间计算\n",
    "def Para_point_est(x, num=20, random_state=0, alpha = 0.05):\n",
    "    \"\"\"\n",
    "    x是Series类型的数据\n",
    "    num指随机抽样20个数据\n",
    "    random_state是随机数种子，固定每次抽样的结果\n",
    "    alpha是1-置信度，这里是显著性水平\n",
    "    \"\"\"\n",
    "    # 选择要抽取的样本行，例如随机抽取【num】个数据\n",
    "    sample = x.sample(n=num, random_state=0)\n",
    "\n",
    "    # 选择要使用的分布类型，例如正态分布\n",
    "    dist = stats.norm\n",
    "\n",
    "    # 计算样本和总体的均值和方差\n",
    "    sample_mean = sample.mean()\n",
    "    sample_var = sample.var()\n",
    "    pop_mean = x.mean()\n",
    "    pop_var = x.var()\n",
    "\n",
    "    # 打印样本和总体的均值和方差\n",
    "    # print(f\"sample: \", sample)\n",
    "    print(f\"Sample mean: {sample_mean:.3f}\")\n",
    "    print(f\"Sample variance: {sample_var:.3f}\")\n",
    "    print(f\"Population mean: {pop_mean:.3f}\")\n",
    "    print(f\"Population variance: {pop_var:.3f}\")\n",
    "    \n",
    "    ########################################################\n",
    "    \n",
    "    # 计算均值的置信区间\n",
    "    t_critical = stats.t.ppf(1-alpha/2,num-1) # 计算t分布的临界值\n",
    "    # print(\"t_critical = \", t_critical )\n",
    "    margin_of_error = t_critical * np.sqrt(sample_var/num) # 计算误差边际\n",
    "    lower_bound = sample_mean - margin_of_error # 计算下限\n",
    "    upper_bound = sample_mean + margin_of_error # 计算上限\n",
    "    print(f\"The confidence interval for the mean is: ({lower_bound:.3f}, {upper_bound:.3f})\")\n",
    "\n",
    "    # 计算方差的置信区间\n",
    "    chi_critical_lower = stats.chi2.ppf(alpha/2,num-1) # 计算卡方分布的下临界值\n",
    "    chi_critical_upper = stats.chi2.ppf(1-alpha/2,num-1) # 计算卡方分布的上临界值\n",
    "    lower_bound = ((num-1) * sample_var) / chi_critical_upper # 计算下限\n",
    "    upper_bound = ((num-1) * sample_var) / chi_critical_lower # 计算上限\n",
    "    print(f\"The confidence interval for the variance is: ({lower_bound:.3f}, {upper_bound:.3f})\")\n",
    "    print(chi_critical_lower, chi_critical_upper)\n",
    "    return sample_mean, sample_var, pop_mean, pop_var\n",
    "\n",
    "sample_mean, sample_var, pop_mean, pop_var = Para_point_est(mean_series, 20)"
   ]
  },
  {
   "cell_type": "code",
   "execution_count": 27,
   "id": "59365793",
   "metadata": {},
   "outputs": [
    {
     "data": {
      "image/png": "[encoded data removed]",
      "text/plain": [
       "<Figure size 640x480 with 1 Axes>"
      ]
     },
     "metadata": {},
     "output_type": "display_data"
    }
   ],
   "source": [
    "# 绘制图像\n",
    "# 绘制满足这两个样本均值和方差的正态分布函数图像\n",
    "x = np.linspace(-5,5,num=100)\n",
    "y_sample = (1/np.sqrt(2*np.pi*sample_var))*np.exp(-((x-sample_mean)**2)/(2*sample_var))\n",
    "y_pop = (1/np.sqrt(2*np.pi*pop_var))*np.exp(-((x-pop_mean)**2)/(2*pop_var))\n",
    "plt.plot(x,y_sample,label=\"Sample normal distribution\")\n",
    "plt.plot(x,y_pop,label=\"Population normal distribution\")\n",
    "plt.legend()\n",
    "\n",
    "# 绘制\n",
    "plt.title(\"Comparison of normal distributions and histogram\")\n",
    "plt.xlabel(\"Value\")\n",
    "plt.ylabel(\"Frequency\")\n",
    "plt.show()"
   ]
  },
  {
   "cell_type": "code",
   "execution_count": null,
   "id": "78ffb71a",
   "metadata": {},
   "outputs": [],
   "source": [
    "\n",
    "\n"
   ]
  }
 ],
 "metadata": {
  "kernelspec": {
   "display_name": "Python [conda env:Stan_env]",
   "language": "python",
   "name": "conda-env-Stan_env-py"
  },
  "language_info": {
   "codemirror_mode": {
    "name": "ipython",
    "version": 3
   },
   "file_extension": ".py",
   "mimetype": "text/x-python",
   "name": "python",
   "nbconvert_exporter": "python",
   "pygments_lexer": "ipython3",
   "version": "3.10.6"
  }
 },
 "nbformat": 4,
 "nbformat_minor": 5
}

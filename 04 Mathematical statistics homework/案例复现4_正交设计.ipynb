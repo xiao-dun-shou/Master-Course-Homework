{
 "cells": [
  {
   "cell_type": "code",
   "execution_count": 1,
   "id": "6e66510b",
   "metadata": {},
   "outputs": [
    {
     "name": "stdout",
     "output_type": "stream",
     "text": [
      "[[-1. -1. -1.]\n",
      " [ 1. -1. -1.]\n",
      " [-1.  1. -1.]\n",
      " [ 1.  1. -1.]\n",
      " [-1. -1.  1.]\n",
      " [ 1. -1.  1.]\n",
      " [-1.  1.  1.]\n",
      " [ 1.  1.  1.]]\n"
     ]
    }
   ],
   "source": [
    "#导入所需的模块\n",
    "import pandas as pd\n",
    "import numpy as np\n",
    "import pyDOE2 as doe\n",
    "import statsmodels.api as sm\n",
    "\n",
    "#读取数据集\n",
    "df = pd.read_csv(\"dataset/games.csv\")\n",
    "\n",
    "#定义因素和水平\n",
    "factors = [\"mac\", \"linux\", \"price_final\"] #三个因素 + 一个空列\n",
    "levels = [2, 2, 2] #每个因素有两个水平，0或1\n",
    "\n",
    "#生成正交表\n",
    "design = doe.ff2n(len(factors)) #生成一个L8(2^3)的正交表，只包含-1和1两个水平\n",
    "print(design)"
   ]
  },
  {
   "cell_type": "code",
   "execution_count": 2,
   "id": "84cb90bc",
   "metadata": {},
   "outputs": [
    {
     "data": {
      "text/html": [
       "<div>\n",
       "<style scoped>\n",
       "    .dataframe tbody tr th:only-of-type {\n",
       "        vertical-align: middle;\n",
       "    }\n",
       "\n",
       "    .dataframe tbody tr th {\n",
       "        vertical-align: top;\n",
       "    }\n",
       "\n",
       "    .dataframe thead th {\n",
       "        text-align: right;\n",
       "    }\n",
       "</style>\n",
       "<table border=\"1\" class=\"dataframe\">\n",
       "  <thead>\n",
       "    <tr style=\"text-align: right;\">\n",
       "      <th></th>\n",
       "      <th>app_id</th>\n",
       "      <th>title</th>\n",
       "      <th>date_release</th>\n",
       "      <th>win</th>\n",
       "      <th>mac</th>\n",
       "      <th>linux</th>\n",
       "      <th>rating</th>\n",
       "      <th>positive_ratio</th>\n",
       "      <th>user_reviews</th>\n",
       "      <th>price_final</th>\n",
       "      <th>price_original</th>\n",
       "      <th>discount</th>\n",
       "      <th>steam_deck</th>\n",
       "    </tr>\n",
       "  </thead>\n",
       "  <tbody>\n",
       "    <tr>\n",
       "      <th>0</th>\n",
       "      <td>10090</td>\n",
       "      <td>Call of Duty: World at War</td>\n",
       "      <td>2008-11-18</td>\n",
       "      <td>True</td>\n",
       "      <td>False</td>\n",
       "      <td>False</td>\n",
       "      <td>Very Positive</td>\n",
       "      <td>92</td>\n",
       "      <td>37039</td>\n",
       "      <td>19.99</td>\n",
       "      <td>19.99</td>\n",
       "      <td>0.0</td>\n",
       "      <td>True</td>\n",
       "    </tr>\n",
       "    <tr>\n",
       "      <th>1</th>\n",
       "      <td>13500</td>\n",
       "      <td>Prince of Persia: Warrior Within™</td>\n",
       "      <td>2008-11-21</td>\n",
       "      <td>True</td>\n",
       "      <td>False</td>\n",
       "      <td>False</td>\n",
       "      <td>Very Positive</td>\n",
       "      <td>84</td>\n",
       "      <td>2199</td>\n",
       "      <td>9.99</td>\n",
       "      <td>9.99</td>\n",
       "      <td>0.0</td>\n",
       "      <td>True</td>\n",
       "    </tr>\n",
       "    <tr>\n",
       "      <th>2</th>\n",
       "      <td>22364</td>\n",
       "      <td>BRINK: Agents of Change</td>\n",
       "      <td>2011-08-03</td>\n",
       "      <td>True</td>\n",
       "      <td>False</td>\n",
       "      <td>False</td>\n",
       "      <td>Positive</td>\n",
       "      <td>85</td>\n",
       "      <td>21</td>\n",
       "      <td>2.99</td>\n",
       "      <td>2.99</td>\n",
       "      <td>0.0</td>\n",
       "      <td>True</td>\n",
       "    </tr>\n",
       "    <tr>\n",
       "      <th>3</th>\n",
       "      <td>113020</td>\n",
       "      <td>Monaco: What's Yours Is Mine</td>\n",
       "      <td>2013-04-24</td>\n",
       "      <td>True</td>\n",
       "      <td>True</td>\n",
       "      <td>True</td>\n",
       "      <td>Very Positive</td>\n",
       "      <td>92</td>\n",
       "      <td>3722</td>\n",
       "      <td>14.99</td>\n",
       "      <td>14.99</td>\n",
       "      <td>0.0</td>\n",
       "      <td>True</td>\n",
       "    </tr>\n",
       "    <tr>\n",
       "      <th>4</th>\n",
       "      <td>226560</td>\n",
       "      <td>Escape Dead Island</td>\n",
       "      <td>2014-11-18</td>\n",
       "      <td>True</td>\n",
       "      <td>False</td>\n",
       "      <td>False</td>\n",
       "      <td>Mixed</td>\n",
       "      <td>61</td>\n",
       "      <td>873</td>\n",
       "      <td>14.99</td>\n",
       "      <td>14.99</td>\n",
       "      <td>0.0</td>\n",
       "      <td>True</td>\n",
       "    </tr>\n",
       "  </tbody>\n",
       "</table>\n",
       "</div>"
      ],
      "text/plain": [
       "   app_id                              title date_release   win    mac  linux  \\\n",
       "0   10090         Call of Duty: World at War   2008-11-18  True  False  False   \n",
       "1   13500  Prince of Persia: Warrior Within™   2008-11-21  True  False  False   \n",
       "2   22364            BRINK: Agents of Change   2011-08-03  True  False  False   \n",
       "3  113020       Monaco: What's Yours Is Mine   2013-04-24  True   True   True   \n",
       "4  226560                 Escape Dead Island   2014-11-18  True  False  False   \n",
       "\n",
       "          rating  positive_ratio  user_reviews  price_final  price_original  \\\n",
       "0  Very Positive              92         37039        19.99           19.99   \n",
       "1  Very Positive              84          2199         9.99            9.99   \n",
       "2       Positive              85            21         2.99            2.99   \n",
       "3  Very Positive              92          3722        14.99           14.99   \n",
       "4          Mixed              61           873        14.99           14.99   \n",
       "\n",
       "   discount  steam_deck  \n",
       "0       0.0        True  \n",
       "1       0.0        True  \n",
       "2       0.0        True  \n",
       "3       0.0        True  \n",
       "4       0.0        True  "
      ]
     },
     "execution_count": 2,
     "metadata": {},
     "output_type": "execute_result"
    }
   ],
   "source": [
    "df.head()"
   ]
  },
  {
   "cell_type": "code",
   "execution_count": 3,
   "id": "def9708b",
   "metadata": {},
   "outputs": [
    {
     "name": "stdout",
     "output_type": "stream",
     "text": [
      "[[0. 0. 0.]\n",
      " [1. 0. 0.]\n",
      " [0. 1. 0.]\n",
      " [1. 1. 0.]\n",
      " [0. 0. 1.]\n",
      " [1. 0. 1.]\n",
      " [0. 1. 1.]\n",
      " [1. 1. 1.]]\n"
     ]
    }
   ],
   "source": [
    "#将-1和1转换为0和1\n",
    "design = (design + 1) / 2 #将-1转换为0，将1转换为1\n",
    "print(design)"
   ]
  },
  {
   "cell_type": "code",
   "execution_count": 4,
   "id": "ff97b255",
   "metadata": {},
   "outputs": [
    {
     "name": "stdout",
     "output_type": "stream",
     "text": [
      "   mac  linux  price_final\n",
      "0  0.0    0.0          0.0\n",
      "1  1.0    0.0          0.0\n",
      "2  0.0    1.0          0.0\n",
      "3  1.0    1.0          0.0\n",
      "4  0.0    0.0          1.0\n",
      "5  1.0    0.0          1.0\n",
      "6  0.0    1.0          1.0\n",
      "7  1.0    1.0          1.0\n"
     ]
    }
   ],
   "source": [
    "#添加因素名称\n",
    "design = pd.DataFrame(design, columns=factors) #将数组转换为数据框，并添加列名\n",
    "print(design)"
   ]
  },
  {
   "cell_type": "code",
   "execution_count": 5,
   "id": "6fe80aae",
   "metadata": {},
   "outputs": [],
   "source": [
    "#实施试验\n",
    "results = []  # 用来存储试验结果\n",
    "sample_data_list = []  # 存储每次采样的数据\n",
    "for i in range(len(design)): #对每一行的组合进行试验\n",
    "    row = design.iloc[i] #取出第i行的组合\n",
    "    if row[\"price_final\"] == 0: #如果水平为0，表示价格小于10\n",
    "        filtered_data = df[(df[\"mac\"]==row[\"mac\"]) & (df[\"linux\"]==row[\"linux\"]) & (df[\"price_final\"]<30)] #根据条件过滤数据集\n",
    "    else: #如果水平为1，表示价格大于等于10\n",
    "        filtered_data = df[(df[\"mac\"]==row[\"mac\"]) & (df[\"linux\"]==row[\"linux\"]) & (df[\"price_final\"]>=30)] #根据条件过滤数据集\n",
    "    sample_data = filtered_data.sample(20) #从过滤后的数据集中随机抽取20个样本\n",
    "    sample_data_list.append(sample_data)\n",
    "    mean_positive_ratio = sample_data[\"positive_ratio\"].mean() #计算样本的positive_ratio的平均值作为试验结果\n",
    "    results.append(mean_positive_ratio) #将试验结果添加到列表中\n",
    "concat_df = pd.concat(sample_data_list, axis=0, join='outer')"
   ]
  },
  {
   "cell_type": "code",
   "execution_count": 6,
   "id": "00cc9d35",
   "metadata": {},
   "outputs": [
    {
     "data": {
      "text/plain": [
       "[72.1, 82.15, 79.5, 72.1, 77.65, 84.95, 83.85, 77.05]"
      ]
     },
     "execution_count": 6,
     "metadata": {},
     "output_type": "execute_result"
    }
   ],
   "source": [
    "results"
   ]
  },
  {
   "cell_type": "code",
   "execution_count": 7,
   "id": "e3cc9383",
   "metadata": {},
   "outputs": [],
   "source": [
    "sample_data_list_temp = []\n",
    "for i in sample_data_list:\n",
    "    sample_data_list_temp.append(i[\"positive_ratio\"])\n",
    "sample_data_list = sample_data_list_temp"
   ]
  },
  {
   "cell_type": "code",
   "execution_count": 8,
   "id": "b2150496",
   "metadata": {},
   "outputs": [
    {
     "data": {
      "text/plain": [
       "[24513     70\n",
       " 41917     61\n",
       " 32338    100\n",
       " 47508     83\n",
       " 41673     29\n",
       " 38391     36\n",
       " 43221     71\n",
       " 26992     75\n",
       " 8378      95\n",
       " 23910     51\n",
       " 26433     48\n",
       " 24065     83\n",
       " 22961     93\n",
       " 30222     53\n",
       " 37101     57\n",
       " 43110     91\n",
       " 11818     93\n",
       " 30491     86\n",
       " 22021     79\n",
       " 18228     88\n",
       " Name: positive_ratio, dtype: int64,\n",
       " 36183     86\n",
       " 16608     91\n",
       " 2381      89\n",
       " 39907     97\n",
       " 27051     80\n",
       " 13835     84\n",
       " 1732      89\n",
       " 20376     89\n",
       " 20548     91\n",
       " 17626     66\n",
       " 27665     89\n",
       " 27421     73\n",
       " 22277     89\n",
       " 23973     70\n",
       " 18364     91\n",
       " 8345      82\n",
       " 33864    100\n",
       " 21123     78\n",
       " 30587     45\n",
       " 39085     64\n",
       " Name: positive_ratio, dtype: int64,\n",
       " 29622     71\n",
       " 42195     66\n",
       " 7625      88\n",
       " 16182     61\n",
       " 32203     75\n",
       " 32968     78\n",
       " 44254     72\n",
       " 21502     65\n",
       " 24829     92\n",
       " 5439      96\n",
       " 44235     66\n",
       " 48490     90\n",
       " 14708     97\n",
       " 36663    100\n",
       " 32881     69\n",
       " 24489    100\n",
       " 18260     90\n",
       " 43198     68\n",
       " 42171     83\n",
       " 4349      63\n",
       " Name: positive_ratio, dtype: int64,\n",
       " 45861     89\n",
       " 36021     58\n",
       " 19822     84\n",
       " 47491     81\n",
       " 12908    100\n",
       " 13363     65\n",
       " 33288     43\n",
       " 16216     93\n",
       " 16416     47\n",
       " 21427     69\n",
       " 2032      55\n",
       " 43514     71\n",
       " 18101     93\n",
       " 22441     92\n",
       " 40087     60\n",
       " 20892     89\n",
       " 11128     86\n",
       " 43049     71\n",
       " 46976     50\n",
       " 48418     46\n",
       " Name: positive_ratio, dtype: int64,\n",
       " 2668      91\n",
       " 15257     84\n",
       " 47414     47\n",
       " 17664     96\n",
       " 13108     71\n",
       " 29048     75\n",
       " 41689    100\n",
       " 14954     72\n",
       " 32539     92\n",
       " 20415     97\n",
       " 46217     92\n",
       " 23977     79\n",
       " 12903     58\n",
       " 4862      82\n",
       " 33049     68\n",
       " 2390      90\n",
       " 3499      80\n",
       " 12569     50\n",
       " 8218      51\n",
       " 2647      78\n",
       " Name: positive_ratio, dtype: int64,\n",
       " 11104     96\n",
       " 10877     89\n",
       " 19169     89\n",
       " 16739    100\n",
       " 423       88\n",
       " 43071     90\n",
       " 30        72\n",
       " 7477      93\n",
       " 46130     89\n",
       " 42545     94\n",
       " 208       91\n",
       " 13816     80\n",
       " 6711      81\n",
       " 33531     15\n",
       " 6932      93\n",
       " 47961     93\n",
       " 27816     76\n",
       " 14117     83\n",
       " 7283      91\n",
       " 43        96\n",
       " Name: positive_ratio, dtype: int64,\n",
       " 14223     86\n",
       " 41711     55\n",
       " 4736      98\n",
       " 19005     91\n",
       " 9122      96\n",
       " 31493    100\n",
       " 5081      77\n",
       " 11509     94\n",
       " 29095     71\n",
       " 3549     100\n",
       " 18987     85\n",
       " 7889      72\n",
       " 48323     93\n",
       " 34766     50\n",
       " 489       89\n",
       " 10202     69\n",
       " 25286     79\n",
       " 37861     84\n",
       " 14450    100\n",
       " 4509      88\n",
       " Name: positive_ratio, dtype: int64,\n",
       " 35088    79\n",
       " 31284    59\n",
       " 790      95\n",
       " 8463     78\n",
       " 8680     78\n",
       " 1437     94\n",
       " 1500     89\n",
       " 15291    62\n",
       " 42256    53\n",
       " 12738    97\n",
       " 18913    78\n",
       " 28926    26\n",
       " 43339    79\n",
       " 20224    88\n",
       " 32468    64\n",
       " 16550    90\n",
       " 15757    92\n",
       " 16297    87\n",
       " 44742    58\n",
       " 18347    95\n",
       " Name: positive_ratio, dtype: int64]"
      ]
     },
     "execution_count": 8,
     "metadata": {},
     "output_type": "execute_result"
    }
   ],
   "source": [
    "sample_data_list"
   ]
  },
  {
   "cell_type": "code",
   "execution_count": 9,
   "id": "04821846",
   "metadata": {},
   "outputs": [],
   "source": [
    "a = sample_data_list[0]"
   ]
  },
  {
   "cell_type": "code",
   "execution_count": 10,
   "id": "4e9e70f8",
   "metadata": {},
   "outputs": [
    {
     "data": {
      "text/plain": [
       "72.1"
      ]
     },
     "execution_count": 10,
     "metadata": {},
     "output_type": "execute_result"
    }
   ],
   "source": [
    "a.mean()"
   ]
  },
  {
   "cell_type": "code",
   "execution_count": 32,
   "id": "d4fd7b11",
   "metadata": {},
   "outputs": [],
   "source": [
    "# 检验\n",
    "dfcheap = df[df[\"price_final\"]<50]"
   ]
  },
  {
   "cell_type": "code",
   "execution_count": 33,
   "id": "b00a3075",
   "metadata": {},
   "outputs": [],
   "source": [
    "dfexpensive = df[df[\"price_final\"]>50]"
   ]
  },
  {
   "cell_type": "code",
   "execution_count": 34,
   "id": "fb07d582",
   "metadata": {},
   "outputs": [
    {
     "name": "stdout",
     "output_type": "stream",
     "text": [
      "76.92442125315775\n",
      "72.25108225108225\n"
     ]
    }
   ],
   "source": [
    "print(dfcheap[\"positive_ratio\"].mean())\n",
    "print(dfexpensive[\"positive_ratio\"].mean())"
   ]
  },
  {
   "cell_type": "code",
   "execution_count": null,
   "id": "19831b4b",
   "metadata": {},
   "outputs": [],
   "source": []
  },
  {
   "cell_type": "code",
   "execution_count": null,
   "id": "5c15be94",
   "metadata": {},
   "outputs": [],
   "source": []
  }
 ],
 "metadata": {
  "kernelspec": {
   "display_name": "Python [conda env:Stan_env]",
   "language": "python",
   "name": "conda-env-Stan_env-py"
  },
  "language_info": {
   "codemirror_mode": {
    "name": "ipython",
    "version": 3
   },
   "file_extension": ".py",
   "mimetype": "text/x-python",
   "name": "python",
   "nbconvert_exporter": "python",
   "pygments_lexer": "ipython3",
   "version": "3.10.6"
  }
 },
 "nbformat": 4,
 "nbformat_minor": 5
}

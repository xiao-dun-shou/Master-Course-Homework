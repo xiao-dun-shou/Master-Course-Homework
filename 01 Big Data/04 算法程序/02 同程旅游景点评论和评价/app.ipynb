{
 "cells": [
  {
   "cell_type": "markdown",
   "metadata": {},
   "source": [
    "## 导入包 "
   ]
  },
  {
   "cell_type": "code",
   "execution_count": 1,
   "metadata": {},
   "outputs": [],
   "source": [
    "import numpy as np\n",
    "import pandas as pd\n",
    "import matplotlib.pyplot as plt\n",
    "from pyspark.ml.feature import StringIndexer, VectorIndexer, StandardScaler, VectorAssembler\n",
    "from pyspark.ml.classification import LinearSVC\n",
    "from pyspark.ml.feature import HashingTF, IDF, Tokenizer\n",
    "from pyspark.ml.feature import StringIndexer\n",
    "from pyspark.ml import Pipeline\n",
    "from pyspark import Row\n",
    "from pyspark.ml.feature import PCA\n",
    "from pyspark.ml.linalg import Vectors,DenseVector,VectorUDT\n",
    "from pyspark.sql.functions import col\n",
    "import jieba"
   ]
  },
  {
   "cell_type": "markdown",
   "metadata": {},
   "source": [
    "### 数据导入"
   ]
  },
  {
   "cell_type": "code",
   "execution_count": 20,
   "metadata": {},
   "outputs": [
    {
     "name": "stdout",
     "output_type": "stream",
     "text": [
      "       target                                               text\n",
      "0           1  专门选在工作日过来体验一下融汇温泉，大大小小的池子还是种类很多，从下午一直泡到晚上天黑，也是...\n",
      "1           1  这次是夜场换票的人很多，说实话同程做的还可以就是排队的次序上再加强一点就好了。然后是温泉，感...\n",
      "2           1  评价有点晚了，完全是值啊值啊，一元钱的门票，进去了还有免费的水果一份，温泉种类也很多，这种泡...\n",
      "3           1  一块钱能玩到已经很不错了，但是在同程取票那里工作人员态度不太好，我把手机给他，他写完后往旁边...\n",
      "4           1  距主城温泉水质最棒哒哒的哦；员工服务比较好，时不时都要提醒游客；配套设施完善（网吧，亲子乐园...\n",
      "...       ...                                                ...\n",
      "33793       1                                  非常好，好玩的很多，里面都不要钱的\n",
      "33794       1                                      刚开的，夜景非常nice。\n",
      "33795       1                                      不错！！！方便，快捷！！！\n",
      "33796       0                                        和女朋友一起的，还行吧\n",
      "33797       0  差评送给里面的餐厅，景区里面卖得贵可以理解，但是你好歹还是得让人吃饱吧，一份香菇滑鸡套饭，一...\n",
      "\n",
      "[33798 rows x 2 columns]\n"
     ]
    }
   ],
   "source": [
    "# 从分布式文件系统读取数据\n",
    "dataset_df = spark.read \\\n",
    "          .format(\"csv\") \\\n",
    "          .option(\"header\", \"true\") \\\n",
    "          .option(\"inferSchema\", \"true\") \\\n",
    "          .load('input/dataset.csv')\n",
    "\n",
    "#数据转为dataframe并设置字段值\n",
    "dataset_p = dataset_df.toPandas()\n",
    "dataset_p.columns = ['target', 'text']\n",
    "\n",
    "print(dataset_p)"
   ]
  },
  {
   "cell_type": "code",
   "execution_count": 32,
   "metadata": {},
   "outputs": [
    {
     "name": "stderr",
     "output_type": "stream",
     "text": [
      "2022-11-17 18:35:40,662 WARN csv.CSVHeaderChecker: CSV header does not conform to the schema.\n",
      " Header: , label, review\n",
      " Schema: _c0, label, review\n",
      "Expected: _c0 but found: \n",
      "CSV file: hdfs://localhost:9000/user/huashuimu/input/a1.csv\n",
      "2022-11-17 18:35:42,628 WARN csv.CSVHeaderChecker: CSV header does not conform to the schema.\n",
      " Header: , label, review\n",
      " Schema: _c0, label, review\n",
      "Expected: _c0 but found: \n",
      "CSV file: hdfs://localhost:9000/user/huashuimu/input/a2.csv\n"
     ]
    },
    {
     "name": "stdout",
     "output_type": "stream",
     "text": [
      "          id  target                                               text\n",
      "0          0       1                         就是太热了，而且没有小时候的那种感觉了，完全变完了。\n",
      "1          1       1                                游玩很满意，可玩性很高，还会再来体验的\n",
      "2          2       1                                      好非常好很好，玩那个地方。\n",
      "3          3       1                                         不错，很好的旅游经历\n",
      "4          4       0  丰都给人的感觉不像个旅游城市，公共交通非常不到位，公交车等待时间少则半小时，多则1个多小时。...\n",
      "...      ...     ...                                                ...\n",
      "88765  33793       1                                  非常好，好玩的很多，里面都不要钱的\n",
      "88766  33794       1                                      刚开的，夜景非常nice。\n",
      "88767  33795       1                                      不错！！！方便，快捷！！！\n",
      "88768  33796       0                                        和女朋友一起的，还行吧\n",
      "88769  33797       0  差评送给里面的餐厅，景区里面卖得贵可以理解，但是你好歹还是得让人吃饱吧，一份香菇滑鸡套饭，一...\n",
      "\n",
      "[88770 rows x 3 columns]\n"
     ]
    }
   ],
   "source": [
    "dataset_1 = spark.read \\\n",
    "          .format(\"csv\") \\\n",
    "          .option(\"header\", \"true\") \\\n",
    "          .option(\"inferSchema\", \"true\") \\\n",
    "          .load('input/a1.csv')\n",
    "\n",
    "dataset_2 = spark.read \\\n",
    "          .format(\"csv\")\\\n",
    "          .option(\"header\", \"true\") \\\n",
    "          .option(\"inferSchema\", \"true\") \\\n",
    "          .load('input/a2.csv')\n",
    "\n",
    "#数据转为dataframe并设置字段值\n",
    "dataset_1 = dataset_1.toPandas()\n",
    "dataset_1.columns = ['id','target', 'text']\n",
    "dataset_1.drop(['id'],axis=1)\n",
    "\n",
    "#数据转为dataframe并设置字段值\n",
    "dataset_2 = dataset_2.toPandas()\n",
    "dataset_2.columns = ['id','target', 'text']\n",
    "dataset_2.drop([\"id\"],axis=1)\n",
    "\n",
    "dataset = pd.merge(dataset_1,dataset_2,how=\"outer\")\n",
    "dataset_p = dataset\n",
    "print(dataset)"
   ]
  },
  {
   "cell_type": "markdown",
   "metadata": {},
   "source": [
    "### 数据预处理"
   ]
  },
  {
   "cell_type": "code",
   "execution_count": 33,
   "metadata": {},
   "outputs": [
    {
     "name": "stdout",
     "output_type": "stream",
     "text": [
      "       index     id  target                                               text\n",
      "0          0      0       1          就是 太热 了 ， 而且 没有 小时候 的 那种 感觉 了 ， 完全 变完 了 。\n",
      "1          1      1       1                    游玩 很 满意 ， 可玩性 很 高 ， 还会 再 来 体验 的\n",
      "2          2      2       1                             好 非常 好 很 好 ， 玩 那个 地方 。\n",
      "3          3      3       1                                   不错 ， 很 好 的 旅游 经历\n",
      "4          4      4       0  丰都 给 人 的 感觉 不像 个 旅游 城市 ， 公共交通 非常 不 到位 ， 公交车 等待...\n",
      "...      ...    ...     ...                                                ...\n",
      "19168  80251  25278       0                          带 小朋友 玩玩 看看 可以 ， 很小 的 海洋馆\n",
      "19169  80291  25318       1  在 内陆 城市 这样 的 海洋馆 还是 不错 ， 和 沿海 城市 的 比 起来 差距 就 大...\n",
      "19170  80292  25319       0  19.9 元 买 的 ， 最多 也 就 值 这个 价 ， 2 个 小时 耍 完 足够 ， 离...\n",
      "19171  80638  25665       1                                  不 需要 取票 ， 扫码 进 方便\n",
      "19172  80639  25666       1                                 吗 丁啉 ： 没有 我 看 下 还有\n",
      "\n",
      "[19173 rows x 4 columns]\n"
     ]
    }
   ],
   "source": [
    "#数据去掉缺失值\n",
    "dataset_z = dataset_p.dropna()\n",
    "\n",
    "#数据去掉留言重复值\n",
    "dataset_z.drop_duplicates(keep='first',inplace=True,subset='text')\n",
    "\n",
    "#索引重排：因为前面取出来重复值和缺失值，索引不连续了\n",
    "dataset_z = dataset_z.reset_index()\n",
    "\n",
    "# 文本分词，去除停用词。停用词有专门的停用词库，但是这里没有调用，因为jieba内置了停用词去除功能\n",
    "text = dataset_z.text.values.tolist()\n",
    "words = [\" \".join(jieba.lcut(i)) for i in text]\n",
    "new_text = pd.core.frame.DataFrame({\"text\":words})\n",
    "\n",
    "# 更新数据框：删除没用的列\n",
    "dataset_z.drop([\"text\"],axis=1)\n",
    "dataset_z[\"text\"] = new_text\n",
    "\n",
    "print(dataset_z)"
   ]
  },
  {
   "cell_type": "markdown",
   "metadata": {},
   "source": [
    "### 将数据传入Spark sql"
   ]
  },
  {
   "cell_type": "code",
   "execution_count": 34,
   "metadata": {},
   "outputs": [],
   "source": [
    "dataset_df = sqlContext.createDataFrame(dataset_z)"
   ]
  },
  {
   "cell_type": "markdown",
   "metadata": {},
   "source": [
    "### 设定数据预处理pipeline"
   ]
  },
  {
   "cell_type": "code",
   "execution_count": 35,
   "metadata": {},
   "outputs": [],
   "source": [
    "#文本分词到words字段\n",
    "tokenizer = Tokenizer(inputCol=\"text\", outputCol=\"words\")\n",
    "\n",
    "#对words字段计算词频并transforme到tf字段\n",
    "hashtf = HashingTF(numFeatures=256, inputCol=\"words\", outputCol='tf')\n",
    "\n",
    "#对tf字段计算tf-idf，降低多文档高频词权重\n",
    "idf = IDF(inputCol='tf', outputCol=\"rawfeatures\", minDocFreq=5)\n",
    "\n",
    "#将上述操作放到pipeline中以备使用\n",
    "pipeline = Pipeline(stages=[tokenizer, hashtf, idf])"
   ]
  },
  {
   "cell_type": "markdown",
   "metadata": {},
   "source": [
    "### 特征提取"
   ]
  },
  {
   "cell_type": "code",
   "execution_count": 36,
   "metadata": {},
   "outputs": [
    {
     "name": "stderr",
     "output_type": "stream",
     "text": [
      "                                                                                \r"
     ]
    },
    {
     "name": "stdout",
     "output_type": "stream",
     "text": [
      "+-----+---+------+-------------------------------+----------------------------+--------------------+--------------------+\n",
      "|index| id|target|                           text|                       words|                  tf|         rawfeatures|\n",
      "+-----+---+------+-------------------------------+----------------------------+--------------------+--------------------+\n",
      "|    0|  0|     1|就是 太热 了 ， 而且 没有 小...|[就是, 太热, 了, ，, 而且...|(256,[15,73,107,1...|(256,[15,73,107,1...|\n",
      "|    1|  1|     1|游玩 很 满意 ， 可玩性 很 高...|[游玩, 很, 满意, ，, 可玩...|(256,[24,64,97,10...|(256,[24,64,97,10...|\n",
      "|    2|  2|     1| 好 非常 好 很 好 ， 玩 那个...|  [好, 非常, 好, 很, 好, ...|(256,[11,24,36,75...|(256,[11,24,36,75...|\n",
      "|    3|  3|     1|     不错 ， 很 好 的 旅游 经历|  [不错, ，, 很, 好, 的, ...|(256,[24,36,153,1...|(256,[24,36,153,1...|\n",
      "|    4|  4|     0| 丰都 给 人 的 感觉 不像 个 ...| [丰都, 给, 人, 的, 感觉,...|(256,[2,8,9,20,24...|(256,[2,8,9,20,24...|\n",
      "+-----+---+------+-------------------------------+----------------------------+--------------------+--------------------+\n",
      "only showing top 5 rows\n",
      "\n"
     ]
    }
   ],
   "source": [
    "# 这个代码逻辑可以这样理解：（不一定准确）\n",
    "# 首先要定义一个管道对象。通过对Pipeline类调用fit方法生成这样的管道对象，并且已经声明了这个管道中有哪些方法，各个方法会依此执行\n",
    "# 随后，对管道对象调用transform方法，就可以执行管道中的所有方法，产生输出\n",
    "\n",
    "pipelineFit = pipeline.fit(dataset_df)\n",
    "dataset_df = pipelineFit.transform(dataset_df)\n",
    "\n",
    "dataset_df.show(5)"
   ]
  },
  {
   "cell_type": "markdown",
   "metadata": {},
   "source": [
    "### 建模前数据准备"
   ]
  },
  {
   "cell_type": "code",
   "execution_count": 37,
   "metadata": {},
   "outputs": [
    {
     "name": "stderr",
     "output_type": "stream",
     "text": [
      "                                                                                \r"
     ]
    }
   ],
   "source": [
    "# 设定数据标签\n",
    "labelIndexer = StringIndexer(inputCol=\"target\", outputCol=\"label\").fit(dataset_df)\n",
    "dataset_df = labelIndexer.transform(dataset_df)\n",
    "\n",
    "# 特征标准化\n",
    "normalizer = StandardScaler(inputCol=\"rawfeatures\", outputCol=\"features\")\n",
    "normalizer_model = normalizer.fit(dataset_df)\n",
    "dataset_labeled_df = normalizer_model.transform(dataset_df)\n",
    "\n",
    "# 去除前面处理遗留的无用字段\n",
    "dataset_labeled_df = dataset_labeled_df.select(\"features\",\"label\")\n",
    "\n",
    "# 数据集分割\n",
    "(training_data, test_data) = dataset_labeled_df.randomSplit([0.7, 0.3])"
   ]
  },
  {
   "cell_type": "markdown",
   "metadata": {},
   "source": [
    "### 建模并训练、预测"
   ]
  },
  {
   "cell_type": "code",
   "execution_count": 38,
   "metadata": {},
   "outputs": [
    {
     "name": "stderr",
     "output_type": "stream",
     "text": [
      "                                                                                \r"
     ]
    }
   ],
   "source": [
    "# 配置模型参数\n",
    "dtree = lr = LinearSVC(maxIter=256,threshold=0.5)\n",
    "\n",
    "# 模型训练\n",
    "model = lr.fit(training_data)\n",
    "\n",
    "# 模型检验\n",
    "predictions = model.transform(test_data)"
   ]
  },
  {
   "cell_type": "markdown",
   "metadata": {},
   "source": [
    "### 模型评估"
   ]
  },
  {
   "cell_type": "code",
   "execution_count": 39,
   "metadata": {},
   "outputs": [],
   "source": [
    "#导入评估模块\n",
    "from pyspark.ml.evaluation import MulticlassClassificationEvaluator"
   ]
  },
  {
   "cell_type": "code",
   "execution_count": 40,
   "metadata": {},
   "outputs": [
    {
     "name": "stderr",
     "output_type": "stream",
     "text": [
      "[Stage 2350:==============>                                         (2 + 6) / 8]\r"
     ]
    },
    {
     "name": "stdout",
     "output_type": "stream",
     "text": [
      "Acc: 0.856419\n"
     ]
    },
    {
     "name": "stderr",
     "output_type": "stream",
     "text": [
      "\r",
      "[Stage 2350:===================================>                    (5 + 3) / 8]\r",
      "\r",
      "                                                                                \r"
     ]
    }
   ],
   "source": [
    "\n",
    "\n",
    "#计算准确率\n",
    "acc_evaluator_dt = MulticlassClassificationEvaluator(labelCol=\"label\", predictionCol=\"prediction\", metricName=\"accuracy\")\n",
    "accuracy_dt = acc_evaluator_dt.evaluate(predictions)\n",
    "print(\"Acc: %g\" % (accuracy_dt))\n",
    "\n"
   ]
  },
  {
   "cell_type": "code",
   "execution_count": 41,
   "metadata": {},
   "outputs": [
    {
     "name": "stderr",
     "output_type": "stream",
     "text": [
      "[Stage 2352:=====================>                                  (3 + 5) / 8]\r"
     ]
    },
    {
     "name": "stdout",
     "output_type": "stream",
     "text": [
      "F1: 0.790181\n"
     ]
    },
    {
     "name": "stderr",
     "output_type": "stream",
     "text": [
      "\r",
      "[Stage 2352:==========================================>             (6 + 2) / 8]\r",
      "\r",
      "                                                                                \r"
     ]
    }
   ],
   "source": [
    "#计算F1值\n",
    "f1_evaluator_dt = MulticlassClassificationEvaluator(labelCol=\"label\", predictionCol=\"prediction\", metricName=\"f1\")\n",
    "f1_score_dt= f1_evaluator_dt.evaluate(predictions)\n",
    "print(\"F1: %g\" % (f1_score_dt))"
   ]
  },
  {
   "cell_type": "markdown",
   "metadata": {},
   "source": [
    "### 结果可视化"
   ]
  },
  {
   "cell_type": "code",
   "execution_count": 42,
   "metadata": {},
   "outputs": [],
   "source": [
    "#将标准化特征字段数据的SparkVector类型转为Array类型\n",
    "from pyspark.sql.functions import UserDefinedFunction\n",
    "def convert_to_dense(col):\n",
    "  return DenseVector(col.toArray())\n",
    "convert_to_dense_udf = UserDefinedFunction(lambda x: convert_to_dense(x),VectorUDT())\n",
    "test_dataset_labeled_df = test_data.withColumn(\"dense_features\", convert_to_dense_udf(col(\"features\")))"
   ]
  },
  {
   "cell_type": "code",
   "execution_count": 43,
   "metadata": {},
   "outputs": [
    {
     "name": "stderr",
     "output_type": "stream",
     "text": [
      "                                                                                \r"
     ]
    }
   ],
   "source": [
    "#利用PCA对Array类型标准化特征进行降维\n",
    "PCA_m = PCA(k=2,inputCol=\"dense_features\", outputCol=\"pcaFeatures\")\n",
    "PCA_model_cluster = PCA_m.fit(test_dataset_labeled_df)\n",
    "test_data_points = PCA_model_cluster.transform(test_dataset_labeled_df).select(\"pcaFeatures\",\"label\")"
   ]
  },
  {
   "cell_type": "code",
   "execution_count": 44,
   "metadata": {},
   "outputs": [
    {
     "name": "stderr",
     "output_type": "stream",
     "text": [
      "                                                                                \r"
     ]
    }
   ],
   "source": [
    "#获取绘图数据\n",
    "test_data_points_l = test_data_points.rdd.map(lambda x: (x[0].toArray(),x[1])).collect()\n",
    "test_x = list(map(lambda x: x[0][0], test_data_points_l))\n",
    "test_y = list(map(lambda x: x[0][1], test_data_points_l))\n",
    "test_class = list(map(lambda x: x[1], test_data_points_l))\n",
    "colors = ['red' if label == 1 else 'blue' for label in test_class]"
   ]
  },
  {
   "cell_type": "code",
   "execution_count": 17,
   "metadata": {},
   "outputs": [],
   "source": [
    "#去除奇异值\n",
    "def del_point(nums=1):\n",
    "    for _ in range(nums):\n",
    "        del_index = test_x.index(max(test_x))\n",
    "        del test_x[del_index]\n",
    "        del test_y[del_index]\n",
    "        del colors[del_index]\n",
    "        del_index = test_x.index(min(test_x))\n",
    "        del test_x[del_index]\n",
    "        del test_y[del_index]\n",
    "        del colors[del_index]\n",
    "        del_index = test_y.index(max(test_y))\n",
    "        del test_x[del_index]\n",
    "        del test_y[del_index]\n",
    "        del colors[del_index]\n",
    "        del_index = test_y.index(min(test_y))\n",
    "        del test_x[del_index]\n",
    "        del test_y[del_index]\n",
    "        del colors[del_index]\n",
    "del_point(10)"
   ]
  },
  {
   "cell_type": "code",
   "execution_count": 18,
   "metadata": {
    "scrolled": true
   },
   "outputs": [
    {
     "data": {
      "text/plain": [
       "<matplotlib.collections.PathCollection at 0x7f3c79b3ff70>"
      ]
     },
     "execution_count": 18,
     "metadata": {},
     "output_type": "execute_result"
    },
    {
     "data": {
      "image/png": "[encoded data removed]",
      "text/plain": [
       "<Figure size 640x480 with 1 Axes>"
      ]
     },
     "metadata": {},
     "output_type": "display_data"
    }
   ],
   "source": [
    "#绘图\n",
    "plt.scatter(test_x, test_y, c = colors)"
   ]
  }
 ],
 "metadata": {
  "kernelspec": {
   "display_name": "Python 3 (ipykernel)",
   "language": "python",
   "name": "python3"
  },
  "language_info": {
   "codemirror_mode": {
    "name": "ipython",
    "version": 3
   },
   "file_extension": ".py",
   "mimetype": "text/x-python",
   "name": "python",
   "nbconvert_exporter": "python",
   "pygments_lexer": "ipython3",
   "version": "3.7.13"
  }
 },
 "nbformat": 4,
 "nbformat_minor": 4
}
